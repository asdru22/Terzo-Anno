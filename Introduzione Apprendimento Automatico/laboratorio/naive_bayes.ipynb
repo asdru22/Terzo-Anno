{
  "nbformat": 4,
  "nbformat_minor": 0,
  "metadata": {
    "colab": {
      "provenance": []
    },
    "kernelspec": {
      "display_name": "Python 3",
      "name": "python3"
    },
    "language_info": {
      "name": "python"
    }
  },
  "cells": [
    {
      "cell_type": "markdown",
      "source": [
        "In this notebook we compare the Gaussian naif Bayes versus its discrete version in the case of mnist"
      ],
      "metadata": {
        "id": "lGML4KIiyyMe"
      }
    },
    {
      "cell_type": "code",
      "metadata": {
        "colab": {
          "base_uri": "https://localhost:8080/"
        },
        "id": "hLwv3n0sTb1K",
        "outputId": "059a8936-13b7-41ef-ac00-4e9ac1c0e169"
      },
      "source": [
        "import numpy as np\n",
        "import matplotlib.pyplot as plt\n",
        "\n",
        "#load dataset\n",
        "from tensorflow.keras.datasets import mnist\n",
        "(x_train, y_train), (x_test, y_test) = mnist.load_data()\n",
        "\n",
        "x_train = x_train / 255.\n",
        "x_test = x_test / 255.\n",
        "\n",
        "print(\"min value = {}, max value = {}\".format(np.min(x_train),np.max(x_train)))\n",
        "print(x_train.shape)\n",
        "print(x_test.shape)"
      ],
      "execution_count": 79,
      "outputs": [
        {
          "output_type": "stream",
          "name": "stdout",
          "text": [
            "min value = 0.0, max value = 1.0\n",
            "(60000, 28, 28)\n",
            "(10000, 28, 28)\n"
          ]
        }
      ]
    },
    {
      "cell_type": "code",
      "metadata": {
        "colab": {
          "base_uri": "https://localhost:8080/",
          "height": 136
        },
        "id": "46_cFn9kT3WJ",
        "outputId": "2b3e05e3-d1a2-4831-f39e-fb88edad4a07"
      },
      "source": [
        "def show_samples(samples):\n",
        "    n = np.shape(samples)[0]\n",
        "    plt.figure(figsize=(2*n, 4))\n",
        "    for i in range(n):\n",
        "        # display original\n",
        "        ax = plt.subplot(1, n, i + 1)\n",
        "        plt.imshow(samples[i])\n",
        "        plt.gray()\n",
        "        ax.get_xaxis().set_visible(False)\n",
        "        ax.get_yaxis().set_visible(False)\n",
        "    plt.show()\n",
        "\n",
        "show_samples(x_test[20:30])"
      ],
      "execution_count": 80,
      "outputs": [
        {
          "output_type": "display_data",
          "data": {
            "text/plain": [
              "<Figure size 2000x400 with 10 Axes>"
            ],
            "image/png": "[encoded data removed]"
          },
          "metadata": {}
        }
      ]
    },
    {
      "cell_type": "code",
      "metadata": {
        "colab": {
          "base_uri": "https://localhost:8080/",
          "height": 136
        },
        "id": "YpSu9va_e_bW",
        "outputId": "c18e7796-8b24-42a8-bd69-d6de12962a08"
      },
      "source": [
        "mean_digits = np.zeros((10,28,28))\n",
        "for i in range(0,10):\n",
        "  mean_digits[i]= np.mean(x_train[y_train==i], axis=0)\n",
        "show_samples(mean_digits)"
      ],
      "execution_count": 81,
      "outputs": [
        {
          "output_type": "display_data",
          "data": {
            "text/plain": [
              "<Figure size 2000x400 with 10 Axes>"
            ],
            "image/png": "[encoded data removed]"
          },
          "metadata": {}
        }
      ]
    },
    {
      "cell_type": "code",
      "metadata": {
        "colab": {
          "base_uri": "https://localhost:8080/"
        },
        "id": "LcOFzkujUkrQ",
        "outputId": "aafe062b-c896-4182-fb15-fb34a51dca81"
      },
      "source": [
        "#compute the cardinality of all categories\n",
        "\n",
        "card = np.zeros((10,))\n",
        "for i in range(0,10):\n",
        "    card[i] = np.sum(y_train == i)\n",
        "\n",
        "print(\"card = \", card)"
      ],
      "execution_count": 82,
      "outputs": [
        {
          "output_type": "stream",
          "name": "stdout",
          "text": [
            "card =  [5923. 6742. 5958. 6131. 5842. 5421. 5918. 6265. 5851. 5949.]\n"
          ]
        }
      ]
    },
    {
      "cell_type": "markdown",
      "metadata": {
        "id": "BN7yPEi6buZE"
      },
      "source": [
        "We can also plot these frequency as an histogram"
      ]
    },
    {
      "cell_type": "code",
      "metadata": {
        "colab": {
          "base_uri": "https://localhost:8080/",
          "height": 487
        },
        "id": "QgoNRh5kYsxe",
        "outputId": "eeb3e9e1-f8e5-4c0a-e222-cdbf706e24ec"
      },
      "source": [
        "def plot_hist(a,bins=10,title=None):\n",
        "  plt.figure(tight_layout=True)\n",
        "  plt.hist(a,bins=bins)\n",
        "  if title:\n",
        "    plt.title(title)\n",
        "  plt.show()\n",
        "\n",
        "plot_hist(y_train,title=\"Data for categories\")"
      ],
      "execution_count": 83,
      "outputs": [
        {
          "output_type": "display_data",
          "data": {
            "text/plain": [
              "<Figure size 640x480 with 1 Axes>"
            ],
            "image/png": "[encoded data removed]"
          },
          "metadata": {}
        }
      ]
    },
    {
      "cell_type": "markdown",
      "source": [
        "Now we compute the parameters for Gaussian Naif Bayes technique. We ignore the priors P(Y) since the dataset is sufficiently balaced.\n",
        "\n",
        "For each category, at each pixel, we compute the mean value and the standard deviation. Using Numpy this is extremely simple."
      ],
      "metadata": {
        "id": "Jdn8Rmbnxmvq"
      }
    },
    {
      "cell_type": "code",
      "metadata": {
        "id": "P-VUnC_WVceJ"
      },
      "source": [
        "Mean = np.zeros((10,28,28))\n",
        "Var = np.zeros((10,28,28))\n",
        "epsilon = 1e-5 # Small positive value\n",
        "\n",
        "for i in range(0,10):\n",
        "  Mean[i] = np.mean(x_train[y_train==i], axis=0)\n",
        "  Var[i] = np.var(x_train[y_train==i], axis=0)\n",
        "  Var[i] = np.maximum(Var[i],epsilon)"
      ],
      "execution_count": 138,
      "outputs": []
    },
    {
      "cell_type": "markdown",
      "source": [
        "We now compute, for each category, a multimodal Gaussian distributions for pixels."
      ],
      "metadata": {
        "id": "NHvGBlF-1sg9"
      }
    },
    {
      "cell_type": "code",
      "source": [
        "def gaussian_density(x,mean,var):\n",
        "  numerator = np.exp(- (x - mean) ** 2 / (2 * var))\n",
        "  denominator = np.sqrt(2 * np.pi * var)\n",
        "  res = numerator / denominator\n",
        "  return res"
      ],
      "metadata": {
        "id": "Nhfj9KObYWPc"
      },
      "execution_count": 139,
      "outputs": []
    },
    {
      "cell_type": "code",
      "source": [
        "def classify(sample):\n",
        "  probs = []\n",
        "  for i in range(0,10):\n",
        "    pixel_probs = gaussian_density(sample,Mean[i],Var[i])\n",
        "    prob = np.sum(np.log(pixel_probs))\n",
        "    probs.append(prob)\n",
        "  return(np.argmax(probs))"
      ],
      "metadata": {
        "id": "3SZo_YDDaTzK"
      },
      "execution_count": 140,
      "outputs": []
    },
    {
      "cell_type": "code",
      "metadata": {
        "colab": {
          "base_uri": "https://localhost:8080/",
          "height": 1000
        },
        "outputId": "edab0a86-5b37-4f4c-a3e6-07fbb60bd948",
        "collapsed": true,
        "id": "nyb3JblRd7NY"
      },
      "source": [
        "for i in range(100):\n",
        "    prediction = classify(x_test[i])\n",
        "    true = y_test[i]\n",
        "    print(\"true = {}, predicted = {}\".format(true,prediction))\n",
        "    if not true == prediction:\n",
        "        #we show the sample in case of missclassification\n",
        "        show_samples(np.expand_dims(x_test[i],axis=0))\n",
        "    x = input()\n",
        "    if x == 'q':\n",
        "      break"
      ],
      "execution_count": 141,
      "outputs": [
        {
          "metadata": {
            "tags": null
          },
          "name": "stderr",
          "output_type": "stream",
          "text": [
            "<ipython-input-140-2c37ba39d6b3>:5: RuntimeWarning: divide by zero encountered in log\n",
            "  prob = np.sum(np.log(pixel_probs))\n"
          ]
        },
        {
          "metadata": {
            "tags": null
          },
          "name": "stdout",
          "output_type": "stream",
          "text": [
            "true = 7, predicted = 7\n",
            "true = 2, predicted = 2\n",
            "true = 1, predicted = 1\n",
            "true = 0, predicted = 0\n",
            "true = 4, predicted = 9\n"
          ]
        },
        {
          "data": {
            "image/png": "[encoded data removed]",
            "text/plain": [
              "<Figure size 200x400 with 1 Axes>"
            ]
          },
          "metadata": {},
          "output_type": "display_data"
        },
        {
          "metadata": {
            "tags": null
          },
          "name": "stdout",
          "output_type": "stream",
          "text": [
            "true = 1, predicted = 1\n",
            "true = 4, predicted = 8\n"
          ]
        },
        {
          "data": {
            "image/png": "[encoded data removed]",
            "text/plain": [
              "<Figure size 200x400 with 1 Axes>"
            ]
          },
          "metadata": {},
          "output_type": "display_data"
        },
        {
          "metadata": {
            "tags": null
          },
          "name": "stdout",
          "output_type": "stream",
          "text": [
            "true = 9, predicted = 9\n",
            "true = 5, predicted = 4\n"
          ]
        },
        {
          "data": {
            "image/png": "[encoded data removed]",
            "text/plain": [
              "<Figure size 200x400 with 1 Axes>"
            ]
          },
          "metadata": {},
          "output_type": "display_data"
        },
        {
          "metadata": {
            "tags": null
          },
          "name": "stdout",
          "output_type": "stream",
          "text": [
            "true = 9, predicted = 9\n",
            "true = 0, predicted = 0\n",
            "true = 6, predicted = 6\n",
            "true = 9, predicted = 9\n",
            "true = 0, predicted = 0\n",
            "true = 1, predicted = 1\n",
            "true = 5, predicted = 0\n"
          ]
        },
        {
          "data": {
            "image/png": "[encoded data removed]",
            "text/plain": [
              "<Figure size 200x400 with 1 Axes>"
            ]
          },
          "metadata": {},
          "output_type": "display_data"
        },
        {
          "metadata": {
            "tags": null
          },
          "name": "stdout",
          "output_type": "stream",
          "text": [
            "true = 9, predicted = 9\n",
            "true = 7, predicted = 7\n",
            "true = 3, predicted = 2\n"
          ]
        },
        {
          "data": {
            "image/png": "[encoded data removed]",
            "text/plain": [
              "<Figure size 200x400 with 1 Axes>"
            ]
          },
          "metadata": {},
          "output_type": "display_data"
        },
        {
          "metadata": {
            "tags": null
          },
          "name": "stdout",
          "output_type": "stream",
          "text": [
            "true = 4, predicted = 9\n"
          ]
        },
        {
          "data": {
            "image/png": "[encoded data removed]",
            "text/plain": [
              "<Figure size 200x400 with 1 Axes>"
            ]
          },
          "metadata": {},
          "output_type": "display_data"
        },
        {
          "metadata": {
            "tags": null
          },
          "name": "stdout",
          "output_type": "stream",
          "text": [
            "true = 9, predicted = 9\n",
            "true = 6, predicted = 6\n",
            "true = 6, predicted = 6\n",
            "true = 5, predicted = 8\n"
          ]
        },
        {
          "data": {
            "image/png": "[encoded data removed]",
            "text/plain": [
              "<Figure size 200x400 with 1 Axes>"
            ]
          },
          "metadata": {},
          "output_type": "display_data"
        },
        {
          "metadata": {
            "tags": null
          },
          "name": "stdout",
          "output_type": "stream",
          "text": [
            "true = 4, predicted = 9\n"
          ]
        },
        {
          "data": {
            "image/png": "[encoded data removed]",
            "text/plain": [
              "<Figure size 200x400 with 1 Axes>"
            ]
          },
          "metadata": {},
          "output_type": "display_data"
        },
        {
          "metadata": {
            "tags": null
          },
          "name": "stdout",
          "output_type": "stream",
          "text": [
            "true = 0, predicted = 0\n",
            "true = 7, predicted = 7\n",
            "true = 4, predicted = 9\n"
          ]
        },
        {
          "data": {
            "image/png": "[encoded data removed]",
            "text/plain": [
              "<Figure size 200x400 with 1 Axes>"
            ]
          },
          "metadata": {},
          "output_type": "display_data"
        },
        {
          "metadata": {
            "tags": null
          },
          "name": "stdout",
          "output_type": "stream",
          "text": [
            "true = 0, predicted = 0\n",
            "true = 1, predicted = 1\n",
            "true = 3, predicted = 9\n"
          ]
        },
        {
          "data": {
            "image/png": "[encoded data removed]",
            "text/plain": [
              "<Figure size 200x400 with 1 Axes>"
            ]
          },
          "metadata": {},
          "output_type": "display_data"
        },
        {
          "metadata": {
            "tags": null
          },
          "name": "stdout",
          "output_type": "stream",
          "text": [
            "true = 1, predicted = 1\n",
            "true = 3, predicted = 3\n",
            "true = 4, predicted = 0\n"
          ]
        },
        {
          "data": {
            "image/png": "[encoded data removed]",
            "text/plain": [
              "<Figure size 200x400 with 1 Axes>"
            ]
          },
          "metadata": {},
          "output_type": "display_data"
        },
        {
          "metadata": {
            "tags": null
          },
          "name": "stdout",
          "output_type": "stream",
          "text": [
            "true = 7, predicted = 7\n",
            "true = 2, predicted = 0\n"
          ]
        },
        {
          "data": {
            "image/png": "[encoded data removed]",
            "text/plain": [
              "<Figure size 200x400 with 1 Axes>"
            ]
          },
          "metadata": {},
          "output_type": "display_data"
        },
        {
          "metadata": {
            "tags": null
          },
          "name": "stdout",
          "output_type": "stream",
          "text": [
            "true = 7, predicted = 7\n",
            "true = 1, predicted = 1\n",
            "true = 2, predicted = 8\n"
          ]
        },
        {
          "data": {
            "image/png": "[encoded data removed]",
            "text/plain": [
              "<Figure size 200x400 with 1 Axes>"
            ]
          },
          "metadata": {},
          "output_type": "display_data"
        },
        {
          "metadata": {
            "tags": null
          },
          "name": "stdout",
          "output_type": "stream",
          "text": [
            "true = 1, predicted = 1\n",
            "true = 1, predicted = 1\n",
            "true = 7, predicted = 9\n"
          ]
        },
        {
          "data": {
            "image/png": "[encoded data removed]",
            "text/plain": [
              "<Figure size 200x400 with 1 Axes>"
            ]
          },
          "metadata": {},
          "output_type": "display_data"
        },
        {
          "metadata": {
            "tags": null
          },
          "name": "stdout",
          "output_type": "stream",
          "text": [
            "true = 4, predicted = 9\n"
          ]
        },
        {
          "data": {
            "image/png": "[encoded data removed]",
            "text/plain": [
              "<Figure size 200x400 with 1 Axes>"
            ]
          },
          "metadata": {},
          "output_type": "display_data"
        },
        {
          "metadata": {
            "tags": null
          },
          "name": "stdout",
          "output_type": "stream",
          "text": [
            "true = 2, predicted = 2\n",
            "true = 3, predicted = 3\n",
            "true = 5, predicted = 8\n"
          ]
        },
        {
          "data": {
            "image/png": "[encoded data removed]",
            "text/plain": [
              "<Figure size 200x400 with 1 Axes>"
            ]
          },
          "metadata": {},
          "output_type": "display_data"
        },
        {
          "metadata": {
            "tags": null
          },
          "name": "stdout",
          "output_type": "stream",
          "text": [
            "true = 1, predicted = 8\n"
          ]
        },
        {
          "data": {
            "image/png": "[encoded data removed]",
            "text/plain": [
              "<Figure size 200x400 with 1 Axes>"
            ]
          },
          "metadata": {},
          "output_type": "display_data"
        },
        {
          "metadata": {
            "tags": null
          },
          "name": "stdout",
          "output_type": "stream",
          "text": [
            "true = 2, predicted = 6\n"
          ]
        },
        {
          "data": {
            "image/png": "[encoded data removed]",
            "text/plain": [
              "<Figure size 200x400 with 1 Axes>"
            ]
          },
          "metadata": {},
          "output_type": "display_data"
        },
        {
          "metadata": {
            "tags": null
          },
          "name": "stdout",
          "output_type": "stream",
          "text": [
            "true = 4, predicted = 9\n"
          ]
        },
        {
          "data": {
            "image/png": "[encoded data removed]",
            "text/plain": [
              "<Figure size 200x400 with 1 Axes>"
            ]
          },
          "metadata": {},
          "output_type": "display_data"
        },
        {
          "metadata": {
            "tags": null
          },
          "name": "stdout",
          "output_type": "stream",
          "text": [
            "true = 4, predicted = 4\n",
            "true = 6, predicted = 6\n",
            "true = 3, predicted = 3\n",
            "true = 5, predicted = 8\n"
          ]
        },
        {
          "data": {
            "image/png": "[encoded data removed]",
            "text/plain": [
              "<Figure size 200x400 with 1 Axes>"
            ]
          },
          "metadata": {},
          "output_type": "display_data"
        },
        {
          "output_type": "error",
          "ename": "KeyboardInterrupt",
          "evalue": "Interrupted by user",
          "traceback": [
            "\u001b[0;31m---------------------------------------------------------------------------\u001b[0m",
            "\u001b[0;31mKeyboardInterrupt\u001b[0m                         Traceback (most recent call last)",
            "\u001b[0;32m<ipython-input-141-b13098b7e48b>\u001b[0m in \u001b[0;36m<cell line: 1>\u001b[0;34m()\u001b[0m\n\u001b[1;32m      6\u001b[0m         \u001b[0;31m#we show the sample in case of missclassification\u001b[0m\u001b[0;34m\u001b[0m\u001b[0;34m\u001b[0m\u001b[0m\n\u001b[1;32m      7\u001b[0m         \u001b[0mshow_samples\u001b[0m\u001b[0;34m(\u001b[0m\u001b[0mnp\u001b[0m\u001b[0;34m.\u001b[0m\u001b[0mexpand_dims\u001b[0m\u001b[0;34m(\u001b[0m\u001b[0mx_test\u001b[0m\u001b[0;34m[\u001b[0m\u001b[0mi\u001b[0m\u001b[0;34m]\u001b[0m\u001b[0;34m,\u001b[0m\u001b[0maxis\u001b[0m\u001b[0;34m=\u001b[0m\u001b[0;36m0\u001b[0m\u001b[0;34m)\u001b[0m\u001b[0;34m)\u001b[0m\u001b[0;34m\u001b[0m\u001b[0;34m\u001b[0m\u001b[0m\n\u001b[0;32m----> 8\u001b[0;31m     \u001b[0mx\u001b[0m \u001b[0;34m=\u001b[0m \u001b[0minput\u001b[0m\u001b[0;34m(\u001b[0m\u001b[0;34m)\u001b[0m\u001b[0;34m\u001b[0m\u001b[0;34m\u001b[0m\u001b[0m\n\u001b[0m\u001b[1;32m      9\u001b[0m     \u001b[0;32mif\u001b[0m \u001b[0mx\u001b[0m \u001b[0;34m==\u001b[0m \u001b[0;34m'q'\u001b[0m\u001b[0;34m:\u001b[0m\u001b[0;34m\u001b[0m\u001b[0;34m\u001b[0m\u001b[0m\n\u001b[1;32m     10\u001b[0m       \u001b[0;32mbreak\u001b[0m\u001b[0;34m\u001b[0m\u001b[0;34m\u001b[0m\u001b[0m\n",
            "\u001b[0;32m/usr/local/lib/python3.10/dist-packages/ipykernel/kernelbase.py\u001b[0m in \u001b[0;36mraw_input\u001b[0;34m(self, prompt)\u001b[0m\n\u001b[1;32m    849\u001b[0m                 \u001b[0;34m\"raw_input was called, but this frontend does not support input requests.\"\u001b[0m\u001b[0;34m\u001b[0m\u001b[0;34m\u001b[0m\u001b[0m\n\u001b[1;32m    850\u001b[0m             )\n\u001b[0;32m--> 851\u001b[0;31m         return self._input_request(str(prompt),\n\u001b[0m\u001b[1;32m    852\u001b[0m             \u001b[0mself\u001b[0m\u001b[0;34m.\u001b[0m\u001b[0m_parent_ident\u001b[0m\u001b[0;34m,\u001b[0m\u001b[0;34m\u001b[0m\u001b[0;34m\u001b[0m\u001b[0m\n\u001b[1;32m    853\u001b[0m             \u001b[0mself\u001b[0m\u001b[0;34m.\u001b[0m\u001b[0m_parent_header\u001b[0m\u001b[0;34m,\u001b[0m\u001b[0;34m\u001b[0m\u001b[0;34m\u001b[0m\u001b[0m\n",
            "\u001b[0;32m/usr/local/lib/python3.10/dist-packages/ipykernel/kernelbase.py\u001b[0m in \u001b[0;36m_input_request\u001b[0;34m(self, prompt, ident, parent, password)\u001b[0m\n\u001b[1;32m    893\u001b[0m             \u001b[0;32mexcept\u001b[0m \u001b[0mKeyboardInterrupt\u001b[0m\u001b[0;34m:\u001b[0m\u001b[0;34m\u001b[0m\u001b[0;34m\u001b[0m\u001b[0m\n\u001b[1;32m    894\u001b[0m                 \u001b[0;31m# re-raise KeyboardInterrupt, to truncate traceback\u001b[0m\u001b[0;34m\u001b[0m\u001b[0;34m\u001b[0m\u001b[0m\n\u001b[0;32m--> 895\u001b[0;31m                 \u001b[0;32mraise\u001b[0m \u001b[0mKeyboardInterrupt\u001b[0m\u001b[0;34m(\u001b[0m\u001b[0;34m\"Interrupted by user\"\u001b[0m\u001b[0;34m)\u001b[0m \u001b[0;32mfrom\u001b[0m \u001b[0;32mNone\u001b[0m\u001b[0;34m\u001b[0m\u001b[0;34m\u001b[0m\u001b[0m\n\u001b[0m\u001b[1;32m    896\u001b[0m             \u001b[0;32mexcept\u001b[0m \u001b[0mException\u001b[0m \u001b[0;32mas\u001b[0m \u001b[0me\u001b[0m\u001b[0;34m:\u001b[0m\u001b[0;34m\u001b[0m\u001b[0;34m\u001b[0m\u001b[0m\n\u001b[1;32m    897\u001b[0m                 \u001b[0mself\u001b[0m\u001b[0;34m.\u001b[0m\u001b[0mlog\u001b[0m\u001b[0;34m.\u001b[0m\u001b[0mwarning\u001b[0m\u001b[0;34m(\u001b[0m\u001b[0;34m\"Invalid Message:\"\u001b[0m\u001b[0;34m,\u001b[0m \u001b[0mexc_info\u001b[0m\u001b[0;34m=\u001b[0m\u001b[0;32mTrue\u001b[0m\u001b[0;34m)\u001b[0m\u001b[0;34m\u001b[0m\u001b[0;34m\u001b[0m\u001b[0m\n",
            "\u001b[0;31mKeyboardInterrupt\u001b[0m: Interrupted by user"
          ]
        }
      ]
    },
    {
      "cell_type": "markdown",
      "source": [
        "# Discrete case\n"
      ],
      "metadata": {
        "id": "E0eT-1cOq0cj"
      }
    },
    {
      "cell_type": "code",
      "source": [
        "x_train_discr = x_train >.5\n",
        "x_test_discr = x_test >.5\n",
        "\n",
        "show_samples(x_test_discr[20:30])"
      ],
      "metadata": {
        "colab": {
          "base_uri": "https://localhost:8080/",
          "height": 136
        },
        "id": "5YLets2xr2gO",
        "outputId": "5faa6660-9b09-4d30-fe6e-0b940549214f"
      },
      "execution_count": 142,
      "outputs": [
        {
          "output_type": "display_data",
          "data": {
            "text/plain": [
              "<Figure size 2000x400 with 10 Axes>"
            ],
            "image/png": "[encoded data removed]"
          },
          "metadata": {}
        }
      ]
    },
    {
      "cell_type": "code",
      "source": [
        "Freq = np.zeros((10,28,28))\n",
        "for i in range(0,10):\n",
        "    Freq[i] = np.sum(x_train_discr[y_train == i],axis=0)\n",
        "\n",
        "#we add one to ensure it is not 0 (we need to compute logs)\n",
        "Freq += 1  #we assume Freq < card"
      ],
      "metadata": {
        "id": "scWEbVgAsDcK"
      },
      "execution_count": 146,
      "outputs": []
    },
    {
      "cell_type": "code",
      "source": [
        "def freq_ij_by_category(i,j):\n",
        "  freq_ij = Freq[:,i,j]\n",
        "  plt.bar(np.arange(freq_ij.shape[0]),freq_ij)\n",
        "\n",
        "freq_ij_by_category(4,10)"
      ],
      "metadata": {
        "colab": {
          "base_uri": "https://localhost:8080/",
          "height": 430
        },
        "id": "rIP7P4gpuOm6",
        "outputId": "44eeab6a-5fd0-4f05-8c59-ccf7969f3549"
      },
      "execution_count": 151,
      "outputs": [
        {
          "output_type": "display_data",
          "data": {
            "text/plain": [
              "<Figure size 640x480 with 1 Axes>"
            ],
            "image/png": "[encoded data removed]"
          },
          "metadata": {}
        }
      ]
    },
    {
      "cell_type": "code",
      "source": [
        "#probabilities to be 1\n",
        "Prob1 = Freq/card[:,None,None]\n",
        "Prob0 = 1-Prob1\n",
        "print(\"Prob1, Prob0 shape = \", Prob1.shape, Prob0.shape)\n",
        "\n",
        "# passing to logs;\n",
        "logProb1 = np.log(Prob1)\n",
        "logProb0 = np.log(Prob0)\n",
        "assert (logProb1 <= 0).all() & (logProb0 <= 0).all()"
      ],
      "metadata": {
        "colab": {
          "base_uri": "https://localhost:8080/"
        },
        "id": "hfjeEimWv9X1",
        "outputId": "d2abcf54-2d66-4b3a-b936-5c6de0162975"
      },
      "execution_count": 154,
      "outputs": [
        {
          "output_type": "stream",
          "name": "stdout",
          "text": [
            "Prob1, Prob0 shape =  (10, 28, 28) (10, 28, 28)\n"
          ]
        }
      ]
    },
    {
      "cell_type": "code",
      "source": [
        "def classify(img):\n",
        "    d_img = img > .5\n",
        "    #loglikelihood\n",
        "    logp = np.sum(logProb1 * d_img + logProb0*(1-d_img),axis=(1,2))\n",
        "    return(np.argmax(logp))"
      ],
      "metadata": {
        "id": "1n7X3PL_wzn3"
      },
      "execution_count": 159,
      "outputs": []
    },
    {
      "cell_type": "code",
      "source": [
        "for i in range(100):\n",
        "    prediction = classify(x_test[i])\n",
        "    true = y_test[i]\n",
        "    print(\"true = {}, predicted = {}\".format(true,prediction))\n",
        "    if not true == prediction:\n",
        "        #we show imagae in case of missclassification\n",
        "        show_samples(np.expand_dims(x_test_discr[i],axis=0))\n",
        "    x = input()\n",
        "    if x == 'q':\n",
        "      break"
      ],
      "metadata": {
        "colab": {
          "base_uri": "https://localhost:8080/"
        },
        "id": "DOv2R_ksw3A8",
        "outputId": "96256410-3581-4db5-94a0-3f489b28f8cf"
      },
      "execution_count": null,
      "outputs": [
        {
          "output_type": "stream",
          "name": "stdout",
          "text": [
            "true = 7, predicted = 7\n"
          ]
        }
      ]
    }
  ]
}